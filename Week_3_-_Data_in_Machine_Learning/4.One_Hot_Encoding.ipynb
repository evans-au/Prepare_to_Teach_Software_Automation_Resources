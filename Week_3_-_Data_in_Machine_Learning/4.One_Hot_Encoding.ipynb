{
 "cells": [
  {
   "cell_type": "markdown",
   "metadata": {},
   "source": [
    "# One Hot Encoding\n",
    "\n",
    "A method for converting categorical variables into a binary format. It creates new columns for each category with the data reprsented in binary. The primary purpose of One Hot Encoding is to ensure that categorical data can be effectively used in machine learning models."
   ]
  },
  {
   "cell_type": "code",
   "execution_count": 1,
   "metadata": {},
   "outputs": [
    {
     "name": "stdout",
     "output_type": "stream",
     "text": [
      "Original Employee Data:\n",
      "   Employee id Gender Remarks\n",
      "0           10      M    Good\n",
      "1           20      F    Nice\n",
      "2           15      F    Good\n",
      "3           25      M   Great\n",
      "4           30      F    Nice\n",
      "\n",
      "One-Hot Encoded Data using Pandas:\n",
      "   Employee id  Gender_M  Remarks_Great  Remarks_Nice\n",
      "0           10      True          False         False\n",
      "1           20     False          False          True\n",
      "2           15     False          False         False\n",
      "3           25      True           True         False\n",
      "4           30     False          False          True\n",
      "\n"
     ]
    }
   ],
   "source": [
    "import pandas as pd\n",
    "\n",
    "dataframe = pd.DataFrame({\n",
    "    'Employee id': [10, 20, 15, 25, 30],\n",
    "    'Gender': ['M', 'F', 'F', 'M', 'F'],\n",
    "    'Remarks': ['Good', 'Nice', 'Good', 'Great', 'Nice']\n",
    "})\n",
    "\n",
    "# Display the original DataFrame\n",
    "print(f\"Original Employee Data:\\n{dataframe}\\n\")\n",
    "# Use pd.get_dummies() to one-hot encode the categorical columns\n",
    "df_pandas_encoded = pd.get_dummies(dataframe, columns=['Gender', 'Remarks'], drop_first=True)\n",
    "\n",
    "print(f\"One-Hot Encoded Data using Pandas:\\n{df_pandas_encoded}\\n\")"
   ]
  },
  {
   "cell_type": "code",
   "execution_count": 2,
   "metadata": {},
   "outputs": [
    {
     "name": "stdout",
     "output_type": "stream",
     "text": [
      "Original Employee Data:\n",
      "   Employee id Gender Remarks\n",
      "0           10      M    Good\n",
      "1           20      F    Nice\n",
      "2           15      F    Good\n",
      "3           25      M   Great\n",
      "4           30      F    Nice\n",
      "\n",
      "One-Hot Encoded Data using sklearn:\n",
      "   Employee id  Gender_M  Remarks_Great  Remarks_Nice\n",
      "0           10       1.0            0.0           0.0\n",
      "1           20       0.0            0.0           1.0\n",
      "2           15       0.0            0.0           0.0\n",
      "3           25       1.0            1.0           0.0\n",
      "4           30       0.0            0.0           1.0\n",
      "\n"
     ]
    }
   ],
   "source": [
    "import pandas as pd\n",
    "from sklearn.preprocessing import OneHotEncoder\n",
    "\n",
    "dataframe = pd.DataFrame({\n",
    "    'Employee id': [10, 20, 15, 25, 30],\n",
    "    'Gender': ['M', 'F', 'F', 'M', 'F'],\n",
    "    'Remarks': ['Good', 'Nice', 'Good', 'Great', 'Nice']\n",
    "})\n",
    "print(f\"Original Employee Data:\\n{dataframe}\\n\")\n",
    "\n",
    "\n",
    "# Initialize OneHotEncoder\n",
    "encoder = OneHotEncoder(drop='first', sparse_output=False)\n",
    "\n",
    "# Select categorical columns to encode\n",
    "categorical_columns = ['Gender', 'Remarks']\n",
    "encoded_data = encoder.fit_transform(dataframe[categorical_columns])\n",
    "\n",
    "# Create a DataFrame for the encoded data\n",
    "encoded_columns = encoder.get_feature_names_out(categorical_columns)\n",
    "encoded_df = pd.DataFrame(encoded_data, columns=encoded_columns)\n",
    "\n",
    "# Combine the encoded data with the original DataFrame (excluding th\n",
    "final_df = pd.concat([dataframe.drop(columns=categorical_columns), encoded_df], axis=1)\n",
    "\n",
    "print(f\"One-Hot Encoded Data using sklearn:\\n{final_df}\\n\")"
   ]
  }
 ],
 "metadata": {
  "kernelspec": {
   "display_name": "Python 3",
   "language": "python",
   "name": "python3"
  },
  "language_info": {
   "codemirror_mode": {
    "name": "ipython",
    "version": 3
   },
   "file_extension": ".py",
   "mimetype": "text/x-python",
   "name": "python",
   "nbconvert_exporter": "python",
   "pygments_lexer": "ipython3",
   "version": "3.12.1"
  }
 },
 "nbformat": 4,
 "nbformat_minor": 2
}
