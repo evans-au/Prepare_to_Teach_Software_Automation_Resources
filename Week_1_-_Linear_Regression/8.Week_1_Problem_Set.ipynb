{
 "cells": [
  {
   "cell_type": "markdown",
   "metadata": {},
   "source": [
    "# Week 1 - Problem Set\n",
    "\n",
    "Practice what you learnt today with these problems; I will share the answers on Monday before the next workshop."
   ]
  },
  {
   "cell_type": "code",
   "execution_count": 17,
   "metadata": {},
   "outputs": [],
   "source": [
    "# Run the dependencies before you begin\n",
    "import numpy as np\n",
    "import pandas as pd\n",
    "import matplotlib.pyplot as plt\n",
    "from utils_common import compute_model_output\n",
    "\n",
    "plt.style.use('deeplearning.mplstyle')"
   ]
  },
  {
   "cell_type": "markdown",
   "metadata": {},
   "source": [
    "__1. In a markdown block, using MD syntax, create an ordered list of 4 different features that could be used to predict house prices.__"
   ]
  },
  {
   "cell_type": "markdown",
   "metadata": {
    "notebookRunGroups": {
     "groupValue": "1"
    }
   },
   "source": [
    "1. Postcode\n",
    "2. Number of Bedrooms\n",
    "3. Number of Bathrooms\n",
    "4. Year Constructed"
   ]
  },
  {
   "cell_type": "markdown",
   "metadata": {},
   "source": [
    "__2. In a code block, convert the following table to a Python List, Numpy array and a Pandas DataFrame.__\n",
    "\n",
    "| Student Number | Student Name | Result |\n",
    "| --- | --- | --- |\n",
    "| 1234 | Ben | 99 |\n",
    "| 1235 | Jess | 85 |\n",
    "| 1236 | Janet | 50 |\n",
    "| 1237 | Kevin | 62 |\n",
    "| 1238 | Nick | 41 |"
   ]
  },
  {
   "cell_type": "code",
   "execution_count": null,
   "metadata": {},
   "outputs": [],
   "source": [
    "# create a list\n",
    "list_1 = [0, 1, 2, 3, 4, 5, 6, 7, 8, 9]\n",
    "\n",
    "# creating numpy array\n",
    "sample_array_1 = np.array(list_1)\n",
    "\n",
    "print(f\"List in python :\\n{list_1}\\n\")\n",
    "\n",
    "print(f\"Numpy Array in python :\\n{sample_array_1}\")\n",
    "\n",
    "# Create 2 lists\n",
    "list_1 = [0, 1, 2, 3, 4, 5, 6, 7, 8, 9]\n",
    "list_2 = [9, 8, 7, 6, 5, 4, 3, 2, 1, 0]\n",
    "dataframe = pd.DataFrame(\n",
    "    {\n",
    "        \"Date & Time\": pd.Timestamp.now(),\n",
    "        \"List 1\": list_1,\n",
    "        \"List 2\": list_2,\n",
    "    }\n",
    ")\n",
    "print(dataframe)"
   ]
  },
  {
   "cell_type": "code",
   "execution_count": 18,
   "metadata": {},
   "outputs": [
    {
     "name": "stdout",
     "output_type": "stream",
     "text": [
      "Student number list in python :\n",
      "[1234, 1235, 1236, 1237, 1238]\n",
      "\n",
      "1 dimensional Numpy arrays: \n",
      " Student numbers: [1234 1235 1236 1237 1238] \n",
      " Student Names: ['Ben' 'Jess' 'Janet' 'Kevin' 'Nick'] \n",
      " Student Results: [62 85 50 62 41]\n",
      "\n",
      "2 dimensional Numpy Array Method 1 (lists to array) :\n",
      "[['1234' '1235' '1236' '1237' '1238']\n",
      " ['Ben' 'Jess' 'Janet' 'Kevin' 'Nick']\n",
      " ['62' '85' '50' '62' '41']]\n",
      "\n",
      "2 dimensional Numpy Array Method 2 (column stack):\n",
      "[['1234' 'Ben' '62']\n",
      " ['1235' 'Jess' '85']\n",
      " ['1236' 'Janet' '50']\n",
      " ['1237' 'Kevin' '62']\n",
      " ['1238' 'Nick' '41']]\n",
      "\n",
      "Pandas Dataframe\n",
      "                 Date & Time  Student Number   Name  Result\n",
      "0 2025-04-30 13:35:14.810987            1234    Ben      62\n",
      "1 2025-04-30 13:35:14.810987            1235   Jess      85\n",
      "2 2025-04-30 13:35:14.810987            1236  Janet      50\n",
      "3 2025-04-30 13:35:14.810987            1237  Kevin      62\n",
      "4 2025-04-30 13:35:14.810987            1238   Nick      41\n"
     ]
    }
   ],
   "source": [
    "# list\n",
    "student_number = [1234, 1235, 1236, 1237, 1238]\n",
    "student_name = ['Ben', 'Jess', 'Janet', 'Kevin', 'Nick']\n",
    "student_result = [62, 85, 50, 62, 41]\n",
    "\n",
    "# Numpy Array\n",
    "student_number_array = np.array(student_number)\n",
    "student_name_array = np.array(student_name)\n",
    "student_result_array = np.array(student_result)\n",
    "student_details_array = np.array([student_number, student_name, student_result])\n",
    "student_details_stacked = np.column_stack((student_number_array, student_name_array, student_result_array))\n",
    "\n",
    "# Pandas Data Frame\n",
    "student_data = pd.DataFrame(\n",
    "    {\n",
    "        \"Date & Time\": pd.Timestamp.now(),\n",
    "        \"Student Number\": student_number,\n",
    "        \"Name\": student_name,\n",
    "        \"Result\": student_result,\n",
    "    }\n",
    ")\n",
    "# Print Outputs\n",
    "print(f\"Student number list in python :\\n{student_number}\\n\")\n",
    "\n",
    "print(f\"1 dimensional Numpy arrays: \\n Student numbers: {student_number_array} \\n Student Names: {student_name_array} \\n Student Results: {student_result_array}\")\n",
    "print()\n",
    "print(f\"2 dimensional Numpy Array Method 1 (lists to array) :\\n{student_details_array}\")\n",
    "print()\n",
    "print(f\"2 dimensional Numpy Array Method 2 (column stack):\\n{student_details_stacked}\")\n",
    "print()\n",
    "print(\"Pandas Dataframe\")\n",
    "print(student_data)\n"
   ]
  },
  {
   "cell_type": "markdown",
   "metadata": {},
   "source": [
    "__3. In a markdown block, select and justify one of the three data structures for use in Machine Learning.__ "
   ]
  },
  {
   "cell_type": "markdown",
   "metadata": {},
   "source": [
    "__4. In a markdown block, outline the Machine Learning Linear Regression algorithm.__"
   ]
  },
  {
   "cell_type": "markdown",
   "metadata": {},
   "source": [
    "__5. Modify the code block below to adjust $m$ and $b$ to manually fit a Linear Regression line with good intuition or fit.__"
   ]
  },
  {
   "cell_type": "code",
   "execution_count": null,
   "metadata": {},
   "outputs": [],
   "source": [
    "x_train = np.array([[-4], [-8], [-10], [-12], [-14]])\n",
    "y_train = np.array([1, 3, 5, 7, 9])\n",
    "\n",
    "m = 0\n",
    "b = 0\n",
    "\n",
    "tmp_f_mb = compute_model_output(x_train, m, b,)\n",
    "\n",
    "plt.plot(x_train, tmp_f_mb, c='b',label='Our Prediction')\n",
    "plt.scatter(x_train, y_train, marker='x', c='r',label='Actual Values')\n",
    "plt.show()"
   ]
  },
  {
   "cell_type": "markdown",
   "metadata": {},
   "source": [
    "__6. Modify the above code to add a legend, title, Xaxis title and Yaxis title to the MatPlotLib in question 5.__"
   ]
  },
  {
   "cell_type": "markdown",
   "metadata": {},
   "source": [
    "__7. Refering to the below model, describe underfitting in Linear Regression.__"
   ]
  },
  {
   "cell_type": "code",
   "execution_count": null,
   "metadata": {},
   "outputs": [],
   "source": [
    "x_train = np.array([1, 1.5, 1.8, 2, 2.2])\n",
    "y_train = np.array([[200], [250], [260], [280], [500]])\n",
    "\n",
    "\n",
    "m = 200\n",
    "b = 10\n",
    "\n",
    "tmp_f_mb = compute_model_output(x_train, m, b,)\n",
    "\n",
    "plt.plot(x_train, tmp_f_mb, c='b',label='Our Prediction')\n",
    "plt.scatter(x_train, y_train, marker='x', c='r',label='Actual Values')\n",
    "plt.show()"
   ]
  },
  {
   "cell_type": "markdown",
   "metadata": {},
   "source": [
    "__8. In a markdown block, identify and explain the biggest issue with this dataset if it were to be used to train a Linear Regression model.__\n",
    "\n",
    "```python\n",
    "x_train = np.array([1000, 1500, 1800, 2000, 2200])\n",
    "y_train = np.array([[200000], [250000], [260000], [280000], [500000]])\n",
    "```"
   ]
  },
  {
   "cell_type": "markdown",
   "metadata": {},
   "source": [
    "__9. Play the [Gradient Descent Game](https://www.i-am.ai/gradient-descent.html), and read about local and global minimums.__"
   ]
  }
 ],
 "metadata": {
  "kernelspec": {
   "display_name": "Python 3",
   "language": "python",
   "name": "python3"
  },
  "language_info": {
   "codemirror_mode": {
    "name": "ipython",
    "version": 3
   },
   "file_extension": ".py",
   "mimetype": "text/x-python",
   "name": "python",
   "nbconvert_exporter": "python",
   "pygments_lexer": "ipython3",
   "version": "3.12.1"
  }
 },
 "nbformat": 4,
 "nbformat_minor": 2
}
